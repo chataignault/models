{
 "cells": [
  {
   "cell_type": "markdown",
   "id": "c7146ed5",
   "metadata": {},
   "source": [
    "# WTI and DXY correlation \n",
    "- verify the assumption that since WTI - like Brent - is denominated in US dollars globally, \n",
    "a stronger dollar pressures crude prices.\n",
    "\n",
    "Roadmap :\n",
    "- Get WTI data : https://www.eia.gov/dnav/pet/pet_pri_spt_s1_d.htm\n",
    "- Get DX-Y data -> USDX instead\n",
    "- Join on date with maximum history\n",
    "- Compute Pearson correlation\n",
    "- Assess weather the correlation coefficient is relevant \n",
    "- Project out USDX onto WTI to get a first model of the crude idiosyncratic price"
   ]
  },
  {
   "cell_type": "code",
   "execution_count": null,
   "id": "6df1affc",
   "metadata": {},
   "outputs": [
    {
     "name": "stdout",
     "output_type": "stream",
     "text": [
      "Raw data location : /home/leonc/code/fixed-income-analytics/raw_data/commo\n",
      "\n",
      "Current data files :\n",
      "\t- /home/leonc/code/fixed-income-analytics/raw_data/commo/Cushing_OK_WTI_Spot_Price_FOB.csv\n"
     ]
    }
   ],
   "source": [
    "import json\n",
    "import requests\n",
    "from pathlib import Path\n",
    "import numpy as np\n",
    "import pandas as pd\n",
    "import polars as pl\n",
    "import pandas_datareader as pdr\n",
    "from matplotlib import pyplot as plt\n",
    "from scipy.stats import pearsonr, probplot\n",
    "from statsmodels.tsa.api import adfuller, kpss, VAR\n",
    "from statsmodels.graphics.tsaplots import plot_acf, plot_pacf\n",
    "\n",
    "raw_data_folder = Path(\"../raw_data\")\n",
    "commo_folder = raw_data_folder / \"commo\"\n",
    "commo_folder = commo_folder.resolve()\n",
    "print(f\"Raw data location : {commo_folder}\\n\")\n",
    "print(\"Current data files :\")\n",
    "for p in list(commo_folder.glob(\"*\")):\n",
    "    print(f\"\\t- {p}\")"
   ]
  },
  {
   "cell_type": "markdown",
   "id": "2e843cb1",
   "metadata": {},
   "source": [
    "## Load data"
   ]
  },
  {
   "cell_type": "markdown",
   "id": "75f6ed43",
   "metadata": {},
   "source": [
    "### WTI"
   ]
  },
  {
   "cell_type": "code",
   "execution_count": null,
   "id": "13d95091",
   "metadata": {},
   "outputs": [
    {
     "name": "stdout",
     "output_type": "stream",
     "text": [
      "Cushing OK WTI Spot Price FOB\n",
      "\n",
      "https://www.eia.gov/dnav/pet/hist/RWTCD.htm\n",
      "\n",
      "09:19:15 GMT+0100 (British Summer Time)\n",
      "\n",
      "Data Source: Thomson Reuters\n",
      "\n",
      "Day,Cushing OK WTI Spot Price FOB  Dollars per Barrel\n",
      "\n",
      "07/14/2025,68.19\n",
      "\n",
      "07/11/2025,69.63\n",
      "\n",
      "07/10/2025,67.78\n",
      "\n",
      "07/9/2025,69.61\n",
      "\n",
      "07/8/2025,69.55\n",
      "\n"
     ]
    }
   ],
   "source": [
    "# contains header\n",
    "\n",
    "with open(commo_folder / \"Cushing_OK_WTI_Spot_Price_FOB.csv\") as f:\n",
    "    for i in range(10):\n",
    "        print(f.readline())"
   ]
  },
  {
   "cell_type": "code",
   "execution_count": null,
   "id": "ace59111",
   "metadata": {},
   "outputs": [],
   "source": [
    "wti = (\n",
    "    pl.scan_csv(commo_folder / \"Cushing_OK_WTI_Spot_Price_FOB.csv\", skip_rows=4)\n",
    "    .with_columns(pl.col(\"Day\").str.to_date(\"%m/%d/%Y\"))\n",
    "    .rename(\n",
    "        {\"Cushing OK WTI Spot Price FOB  Dollars per Barrel\": \"WTI spot\", \"Day\": \"date\"}\n",
    "    )\n",
    ")"
   ]
  },
  {
   "cell_type": "code",
   "execution_count": null,
   "id": "ec066960",
   "metadata": {},
   "outputs": [],
   "source": [
    "_ = (\n",
    "    wti.collect()\n",
    "    .to_pandas()\n",
    "    .set_index(\"date\")\n",
    "    .plot(\n",
    "        figsize=(10, 4),\n",
    "        grid=True,\n",
    "        ylabel=\"(USD/b)\",\n",
    "        title=\"WTI historical daily spot price\",\n",
    "    )\n",
    ")"
   ]
  },
  {
   "cell_type": "markdown",
   "id": "9462dd5a",
   "metadata": {},
   "source": [
    "### DX-Y / USDX / Dixie"
   ]
  },
  {
   "cell_type": "code",
   "execution_count": null,
   "id": "b6ccd230",
   "metadata": {},
   "outputs": [],
   "source": [
    "# Yahoo finance decomissioned\n",
    "# history not available in alphavantage\n",
    "\n",
    "dxy_ticker = \"DX-Y.NYB\"\n",
    "alternative_ticker = \"USDX\"\n",
    "\n",
    "ALPHAVANTAGE_API_KEY = \"FTGVVCR5TZVEY9ZH\""
   ]
  },
  {
   "cell_type": "code",
   "execution_count": null,
   "id": "3c6bbb11",
   "metadata": {},
   "outputs": [
    {
     "name": "stdout",
     "output_type": "stream",
     "text": [
      "{\n",
      "  \"bestMatches\": []\n",
      "}\n",
      "\n",
      "{\n",
      "  \"bestMatches\": [\n",
      "    {\n",
      "      \"1. symbol\": \"USDX\",\n",
      "      \"2. name\": \"SGI ENHANCED CORE ETF \",\n",
      "      \"3. type\": \"ETF\",\n",
      "      \"4. region\": \"United States\",\n",
      "      \"5. marketOpen\": \"09:30\",\n",
      "      \"6. marketClose\": \"16:00\",\n",
      "      \"7. timezone\": \"UTC-04\",\n",
      "      \"8. currency\": \"USD\",\n",
      "      \"9. matchScore\": \"1.0000\"\n",
      "    }\n",
      "  ]\n",
      "}\n",
      "\n",
      "{\n",
      "  \"endpoint\": \"Historical Options\",\n",
      "  \"message\": \"No data for symbol USDX on date 2023-06-25. Please specify a valid combination of symbol and trading day.\",\n",
      "  \"data\": []\n",
      "}\n"
     ]
    }
   ],
   "source": [
    "for ticker in [dxy_ticker, alternative_ticker]:\n",
    "    search_url = f\"https://www.alphavantage.co/query?function=SYMBOL_SEARCH&keywords={ticker}&apikey={ALPHAVANTAGE_API_KEY}\"\n",
    "    search_result = requests.get(search_url).json()\n",
    "    print(json.dumps(search_result, indent=2) + \"\\n\")\n",
    "\n",
    "\n",
    "quote_url = f\"https://www.alphavantage.co/query?function=HISTORICAL_OPTIONS&symbol={alternative_ticker}&apikey={ALPHAVANTAGE_API_KEY}&date=2023-06-25\"\n",
    "r = requests.get(quote_url)\n",
    "data = r.json()\n",
    "\n",
    "print(json.dumps(data, indent=2))"
   ]
  },
  {
   "cell_type": "markdown",
   "id": "7fc6c496",
   "metadata": {},
   "source": [
    "### Fetching data from local proxy API service"
   ]
  },
  {
   "cell_type": "code",
   "execution_count": null,
   "id": "2c9e847a",
   "metadata": {},
   "outputs": [
    {
     "name": "stdout",
     "output_type": "stream",
     "text": [
      "CONTAINER ID  IMAGE                                                             COMMAND               CREATED        STATUS        PORTS                   NAMES\n",
      "6bc63067b4a0  6199185dbc2a16d93e0271263a1ba657a0481e1ad159c872c3d58b5f24f6e061  uvicorn --host 0....  5 minutes ago  Up 5 minutes  0.0.0.0:8000->8000/tcp  jolly_bartik\n"
     ]
    }
   ],
   "source": [
    "!podman ps"
   ]
  },
  {
   "cell_type": "code",
   "execution_count": null,
   "id": "a69424eb",
   "metadata": {},
   "outputs": [
    {
     "name": "stdout",
     "output_type": "stream",
     "text": [
      "          \"NetworkSettings\": {\n",
      "               \"NetworkMode\": \"slirp4netns\",\n",
      "               \"IPAddress\": \"\",\n",
      "               \"IPPrefixLen\": 0,\n",
      "               \"IPv6Gateway\": \"\",\n",
      "               \"GlobalIPv6Address\": \"\",\n",
      "               \"GlobalIPv6PrefixLen\": 0,\n",
      "               \"LinkLocalIPv6Address\": \"\",\n",
      "               \"LinkLocalIPv6PrefixLen\": 0,\n",
      "                              \"HostIp\": \"\",\n",
      "                    \"org.opencontainers.image.description\": \"An extremely fast Python package and project manager, written in Rust.\",\n",
      "                              \"HostIp\": \"\",\n",
      "               \"IpcMode\": \"shareable\",\n",
      "\n",
      "IP is localhost since container is not WSL but running in main OS Ubuntu\n"
     ]
    }
   ],
   "source": [
    "!podman inspect 6bc63067b4a0 | grep Network\n",
    "!podman inspect 6bc63067b4a0 | grep -i ip\n",
    "\n",
    "print(\"\\nIP is localhost since container is not WSL but running in main OS Ubuntu\")"
   ]
  },
  {
   "cell_type": "code",
   "execution_count": null,
   "id": "b29a282f",
   "metadata": {},
   "outputs": [],
   "source": [
    "# check that the API service is available (running in podman localhost)\n",
    "STATE = \"dev\"\n",
    "\n",
    "ipx = {\"API\": {\"dev\": \"http://127.0.0.1:8000/\", \"staging\": \"http://0.0.0.0:8000/\"}}\n",
    "\n",
    "# query max dollar index history with pandas_datareader API (from FRED)\n",
    "\n",
    "usdx_url = ipx[\"API\"][STATE] + \"pdr/usdx\"\n",
    "\n",
    "res = requests.get(usdx_url)\n",
    "if res.status_code == 404:\n",
    "    print(\"Service not available\")\n",
    "\n",
    "else:\n",
    "    usdx = pd.DataFrame(json.loads(res.json()))\n",
    "    usdx[\"date\"] = usdx[\"date\"].apply(lambda d: pd.Timestamp(d, unit=\"ms\")).dt.date\n",
    "    usdx = usdx.set_index(\"date\")"
   ]
  },
  {
   "cell_type": "markdown",
   "id": "1268fba9",
   "metadata": {},
   "source": [
    "## Verify the correlation assumption"
   ]
  },
  {
   "cell_type": "code",
   "execution_count": null,
   "id": "82149d89",
   "metadata": {},
   "outputs": [
    {
     "name": "stdout",
     "output_type": "stream",
     "text": [
      "Number of days joined : 4902\n"
     ]
    }
   ],
   "source": [
    "df = wti.join(\n",
    "    pl.from_pandas(usdx.reset_index()).with_columns(pl.col(\"date\").dt.date()).lazy(),\n",
    "    on=\"date\",\n",
    "    how=\"inner\",\n",
    ")\n",
    "\n",
    "print(f\"Number of days joined : {df.select(pl.len()).collect().item()}\")"
   ]
  },
  {
   "cell_type": "code",
   "execution_count": null,
   "id": "b9c26bc5",
   "metadata": {},
   "outputs": [],
   "source": [
    "df_p = df.collect().to_pandas().set_index(\"date\")\n",
    "\n",
    "_, ax = plt.subplots(figsize=(10, 4))\n",
    "ax_twin = ax.twinx()\n",
    "df_p[\"WTI spot\"].plot(ax=ax, ylabel=\"USD\")\n",
    "df_p[\"USDX\"].plot(ax=ax_twin, c=\"orange\", grid=True, legend=True)\n",
    "_ = ax.set_title(\"USDX vs WTI spot\")"
   ]
  },
  {
   "cell_type": "code",
   "execution_count": null,
   "id": "2abe719d",
   "metadata": {},
   "outputs": [
    {
     "name": "stdout",
     "output_type": "stream",
     "text": [
      "Pearson correlation coefficient : -0.48840042991376165\n"
     ]
    }
   ],
   "source": [
    "print(\n",
    "    f\"Pearson correlation coefficient : {\n",
    "df.select(\n",
    "    pl.corr(\n",
    "        pl.col(\"WTI spot\"), \n",
    "        pl.col(\"USDX\"),\n",
    "        method=\"pearson\"\n",
    "    )\n",
    ").collect().item()\n",
    "}\"\n",
    ")"
   ]
  },
  {
   "cell_type": "code",
   "execution_count": null,
   "id": "f9d44896",
   "metadata": {},
   "outputs": [
    {
     "name": "stdout",
     "output_type": "stream",
     "text": [
      "Pearson coefficient : -0.488\n",
      "p-value : 0.0\n"
     ]
    }
   ],
   "source": [
    "df_no_nans = df.drop_nulls()\n",
    "pr = pearsonr(\n",
    "    df_no_nans.select(pl.col(\"WTI spot\")).collect().to_numpy().T[0],\n",
    "    df_no_nans.select(pl.col(\"USDX\")).collect().to_numpy().T[0],\n",
    ")\n",
    "print(f\"Pearson coefficient : {np.round(pr.statistic, decimals=3)}\")\n",
    "print(f\"p-value : {np.round(pr.pvalue, decimals=5)}\")\n",
    "rho = pr.statistic"
   ]
  },
  {
   "cell_type": "markdown",
   "id": "1fd99cae",
   "metadata": {},
   "source": [
    "## Quantify explainable variance"
   ]
  },
  {
   "cell_type": "code",
   "execution_count": null,
   "id": "080fe93c",
   "metadata": {},
   "outputs": [],
   "source": [
    "wti_np = df_no_nans.select(pl.col(\"WTI spot\")).collect().to_numpy().T[0]\n",
    "usdx_np = df_no_nans.select(pl.col(\"USDX\")).collect().to_numpy().T[0]\n",
    "\n",
    "wti_unit = (wti_np - np.mean(wti_np)) / np.std(wti_np)\n",
    "usdx_unit = (usdx_np - np.mean(usdx_np)) / np.std(usdx_np)\n",
    "\n",
    "std = df.select(pl.exclude(\"date\").std()).collect()\n",
    "mean = df.select(pl.exclude(\"date\").mean()).collect()"
   ]
  },
  {
   "cell_type": "markdown",
   "id": "c9310ef3",
   "metadata": {},
   "source": [
    "### In-sample linear USDX projection"
   ]
  },
  {
   "cell_type": "code",
   "execution_count": null,
   "id": "f3a4e0a6",
   "metadata": {},
   "outputs": [],
   "source": [
    "(osm_w, osr_w), (a_w, b_w, _) = probplot(wti_np, dist=\"norm\", fit=True)\n",
    "(osm_u, osr_u), (a_u, b_u, _) = probplot(usdx_np, dist=\"norm\", fit=True)"
   ]
  },
  {
   "cell_type": "code",
   "execution_count": null,
   "id": "25d35988",
   "metadata": {},
   "outputs": [],
   "source": [
    "fig, axs = plt.subplots(figsize=(10, 4), ncols=2)\n",
    "axs[0].scatter(osm_w, osr_w, s=1.0)\n",
    "axs[1].scatter(osm_u, osr_u, s=1.0)\n",
    "m_w, M_w = np.min(osm_w), np.max(osm_w)\n",
    "m_u, M_u = np.min(osm_u), np.max(osm_u)\n",
    "x_w = np.linspace(m_w, M_w, 100)\n",
    "x_u = np.linspace(m_u, M_u, 100)\n",
    "axs[0].plot(x_w, b_w + a_w * x_w, c=\"r\")\n",
    "axs[1].plot(x_u, b_u + a_u * x_u, c=\"r\")\n",
    "axs[0].grid()\n",
    "axs[1].grid()\n",
    "axs[0].set_title(\"WTI\")\n",
    "axs[1].set_title(\"USDX\")\n",
    "_ = fig.suptitle(\"QQ-Plot\")"
   ]
  },
  {
   "cell_type": "markdown",
   "id": "c8b2c860",
   "metadata": {},
   "source": [
    "While WTI prices taken as independant samples are approximately Gaussian, this assumption is not verified for the dollar index.\n",
    "\n",
    "> The p-value of the Pearson coefficient is not reliable since the pair of variables is not a bivariate Gaussian."
   ]
  },
  {
   "cell_type": "code",
   "execution_count": null,
   "id": "cb8664ab",
   "metadata": {},
   "outputs": [
    {
     "name": "stdout",
     "output_type": "stream",
     "text": [
      "R2 coefficient : 0.2\n"
     ]
    }
   ],
   "source": [
    "res = wti_unit - rho * usdx_unit\n",
    "\n",
    "r2 = 1.0 - np.var(res)  # wti with unit variance\n",
    "\n",
    "print(\"R2 coefficient :\", np.round(r2, decimals=2))"
   ]
  },
  {
   "cell_type": "markdown",
   "id": "2ec0684d",
   "metadata": {},
   "source": [
    "The in-sample explainable variance is 24 %.\n",
    "\n",
    "However the linear projection approximation is not satisfying, \n",
    "first because the time series are not stationary \n",
    "so the correlation coefficient is mis-specified,\n",
    "then because it is not robust to noise and scale \n",
    "(the result depends on the selected time-frame).\n",
    "\n",
    "A better suited approach must involve the time-structure of the data.\n",
    "In the next section, time-series analysis models are fitted to increase the amount of explainable variance of WTI from USDX."
   ]
  },
  {
   "cell_type": "markdown",
   "id": "0ab62472",
   "metadata": {},
   "source": [
    "### Looking at the increments\n",
    "\n",
    "The series are not stationary since they don't have a constant mean.\n",
    "One can test whether it is difference-stationary.\n",
    "\n"
   ]
  },
  {
   "cell_type": "code",
   "execution_count": null,
   "id": "fd3b8fb7",
   "metadata": {},
   "outputs": [
    {
     "name": "stdout",
     "output_type": "stream",
     "text": [
      "Number of days joined : 4789\n"
     ]
    }
   ],
   "source": [
    "EPS = 0.1  # clip negative prices\n",
    "\n",
    "df_increments = df.with_columns(\n",
    "    pl.exclude(\"date\").clip(lower_bound=EPS).log().diff()\n",
    ").drop_nulls()\n",
    "\n",
    "df_increments = df_increments.with_columns(\n",
    "    pl.col(\"WTI spot\").clip(\n",
    "        upper_bound=pl.quantile(\"WTI spot\", 0.99),\n",
    "        lower_bound=pl.quantile(\"WTI spot\", 0.01),\n",
    "    ),\n",
    "    pl.col(\"USDX\").clip(\n",
    "        upper_bound=pl.quantile(\"USDX\", 0.99), lower_bound=pl.quantile(\"USDX\", 0.01)\n",
    "    ),\n",
    ")\n",
    "\n",
    "df_increments = df_increments.with_columns(\n",
    "    (pl.col(\"WTI spot\") - pl.mean(\"WTI spot\")) / pl.std(\"WTI spot\"),\n",
    "    (pl.col(\"USDX\") - pl.mean(\"USDX\")) / pl.std(\"USDX\"),\n",
    ")\n",
    "\n",
    "\n",
    "print(f\"Number of days joined : {df_increments.select(pl.len()).collect().item()}\")\n",
    "\n",
    "\n",
    "df_p = df_increments.collect().to_pandas().set_index(\"date\")\n",
    "\n",
    "wti_incr_unit = df_p[\"WTI spot\"]\n",
    "usdx_incr_unit = df_p[\"USDX\"]"
   ]
  },
  {
   "cell_type": "code",
   "execution_count": null,
   "id": "2088692a",
   "metadata": {},
   "outputs": [],
   "source": [
    "_, ax = plt.subplots(figsize=(10, 4))\n",
    "\n",
    "datex = df_p.index\n",
    "ax.plot(datex, wti_incr_unit, alpha=0.8)\n",
    "ax.plot(datex, usdx_incr_unit, c=\"orange\", alpha=0.5)\n",
    "ax.grid()\n",
    "_ = ax.set_title(\"USDX vs WTI spot log diffs\")"
   ]
  },
  {
   "cell_type": "code",
   "execution_count": null,
   "id": "b29ae605",
   "metadata": {},
   "outputs": [
    {
     "name": "stdout",
     "output_type": "stream",
     "text": [
      "Pearson correlation coefficient : -0.29585351751962435\n"
     ]
    }
   ],
   "source": [
    "print(\n",
    "    f\"Pearson correlation coefficient : {\n",
    "df_increments.select(\n",
    "    pl.corr(\n",
    "        pl.col(\"WTI spot\"), \n",
    "        pl.col(\"USDX\"),\n",
    "        method=\"pearson\"\n",
    "    )\n",
    ").collect().item()\n",
    "}\"\n",
    ")"
   ]
  },
  {
   "cell_type": "markdown",
   "id": "04fd0ed8",
   "metadata": {},
   "source": [
    "The coefficient is lower than the non-differenciated time-series.\n",
    "\n",
    "It is a better estimation of how well the USDX can account for variation in WTI value, \n",
    "since it measures **by how much both time series move in the same direction simultneously**\n",
    "rather than measuring **by how much both series are above their global mean at the same time** \n",
    "which is more descriptive than predictive."
   ]
  },
  {
   "cell_type": "markdown",
   "id": "00e7a1ec",
   "metadata": {},
   "source": [
    "### Lead-lag ?"
   ]
  },
  {
   "cell_type": "code",
   "execution_count": null,
   "id": "b1bcf163",
   "metadata": {},
   "outputs": [
    {
     "name": "stdout",
     "output_type": "stream",
     "text": [
      "\n",
      "Days of lag :  4\n",
      "Pearson coefficient : -0.026\n",
      "p-value : 0.07217\n",
      "\n",
      "Days of lag :  3\n",
      "Pearson coefficient : 0.015\n",
      "p-value : 0.28638\n",
      "\n",
      "Days of lag :  2\n",
      "Pearson coefficient : -0.018\n",
      "p-value : 0.21287\n",
      "\n",
      "Days of lag :  1\n",
      "Pearson coefficient : -0.07\n",
      "p-value : 0.0\n",
      "\n",
      "Days of lag :  0\n",
      "Pearson coefficient : -0.296\n",
      "p-value : 0.0\n"
     ]
    }
   ],
   "source": [
    "for i in range(5)[::-1]:\n",
    "    print(\"\\nDays of lag : \", i)\n",
    "    pr = pearsonr(wti_incr_unit[i:], usdx_incr_unit[:-i] if i > 0 else usdx_incr_unit)\n",
    "    print(f\"Pearson coefficient : {np.round(pr.statistic, decimals=3)}\")\n",
    "    print(f\"p-value : {np.round(pr.pvalue, decimals=5)}\")\n",
    "\n",
    "\n",
    "rho = pr.statistic"
   ]
  },
  {
   "cell_type": "markdown",
   "id": "7776fd66",
   "metadata": {},
   "source": [
    "Lagging USDX does not improve the correlation between the time series.\n",
    "\n",
    "The price adjustment of WTI is likely to happen intraday.\n",
    "\n",
    "*Lagging WTI (not shown) does not improve the correlation either, which was expected.*"
   ]
  },
  {
   "cell_type": "markdown",
   "id": "6c67fba7",
   "metadata": {},
   "source": [
    "### Vector Autoregression model on the increments"
   ]
  },
  {
   "cell_type": "code",
   "execution_count": null,
   "id": "614a6710",
   "metadata": {},
   "outputs": [],
   "source": [
    "(osm_w, osr_w), (a_w, b_w, _) = probplot(wti_incr_unit, dist=\"norm\", fit=True)\n",
    "(osm_u, osr_u), (a_u, b_u, _) = probplot(usdx_incr_unit, dist=\"norm\", fit=True)"
   ]
  },
  {
   "cell_type": "code",
   "execution_count": null,
   "id": "4a56fde9",
   "metadata": {},
   "outputs": [
    {
     "name": "stdout",
     "output_type": "stream",
     "text": [
      "\n",
      "WTI :\n",
      "    Reject ADF : True\n",
      "    Reject KPSS : False\n",
      "\n",
      "USDX :\n",
      "    Reject ADF : True\n",
      "    Reject KPSS : False\n",
      "\n"
     ]
    },
    {
     "name": "stderr",
     "output_type": "stream",
     "text": [
      "/tmp/ipykernel_6530/1819464982.py:3: InterpolationWarning: The test statistic is outside of the range of p-values available in the\n",
      "look-up table. The actual p-value is greater than the p-value returned.\n",
      "\n",
      "  kpss_wti, pk_wti, lag_wti, *_ = kpss(wti_incr_unit)\n",
      "/tmp/ipykernel_6530/1819464982.py:4: InterpolationWarning: The test statistic is outside of the range of p-values available in the\n",
      "look-up table. The actual p-value is greater than the p-value returned.\n",
      "\n",
      "  kpss_usdx, pk_usdx, lag_usdx, *_ = kpss(usdx_incr_unit)\n"
     ]
    }
   ],
   "source": [
    "adf_wti, p_wti, lag_wti, *_ = adfuller(wti_incr_unit)\n",
    "adf_usdx, p_usdx, lag_usdx, *_ = adfuller(usdx_incr_unit)\n",
    "kpss_wti, pk_wti, lag_wti, *_ = kpss(wti_incr_unit)\n",
    "kpss_usdx, pk_usdx, lag_usdx, *_ = kpss(usdx_incr_unit)\n",
    "\n",
    "confidence_level = 0.01\n",
    "\n",
    "print(f\"\"\"\n",
    "WTI :\n",
    "    Reject ADF : {p_wti < confidence_level}\n",
    "    Reject KPSS : {pk_wti < confidence_level}\n",
    "\n",
    "USDX :\n",
    "    Reject ADF : {p_usdx < confidence_level}\n",
    "    Reject KPSS : {pk_usdx < confidence_level}\n",
    "\"\"\")"
   ]
  },
  {
   "cell_type": "markdown",
   "id": "2dcca7b6",
   "metadata": {},
   "source": [
    "Both tests agree that the time series of increments are stationary.\n",
    "\n",
    "From there it makes sense to fit an autoregressive model."
   ]
  },
  {
   "cell_type": "code",
   "execution_count": null,
   "id": "56e5ff5e",
   "metadata": {},
   "outputs": [],
   "source": [
    "fig, axs = plt.subplots(ncols=2, nrows=2, figsize=(10, 6), sharey=True)\n",
    "\n",
    "_ = plot_acf(wti_incr_unit, ax=axs[0][0], title=\"WTI autocorrelation\", auto_ylims=True)\n",
    "_ = plot_acf(\n",
    "    usdx_incr_unit, ax=axs[0][1], title=\"USDX autocorrelation\", auto_ylims=True\n",
    ")\n",
    "_ = plot_pacf(wti_incr_unit, ax=axs[1][0], title=\"WTI partial autocorrelation\")\n",
    "_ = plot_pacf(usdx_incr_unit, ax=axs[1][1], title=\"USDX partial autocorrelation\")\n",
    "\n",
    "fig.tight_layout()"
   ]
  },
  {
   "cell_type": "code",
   "execution_count": null,
   "id": "bf95904a",
   "metadata": {},
   "outputs": [
    {
     "name": "stdout",
     "output_type": "stream",
     "text": [
      "Number of lags modelled : 1\n"
     ]
    },
    {
     "name": "stderr",
     "output_type": "stream",
     "text": [
      "/home/leonc/code/fixed-income-analytics/.venv/lib/python3.12/site-packages/statsmodels/tsa/base/tsa_model.py:473: ValueWarning: A date index has been provided, but it has no associated frequency information and so will be ignored when e.g. forecasting.\n",
      "  self._init_dates(dates, freq)\n",
      "/home/leonc/code/fixed-income-analytics/.venv/lib/python3.12/site-packages/statsmodels/tsa/base/tsa_model.py:473: ValueWarning: A date index has been provided, but it is not monotonic and so will be ignored when e.g. forecasting.\n",
      "  self._init_dates(dates, freq)\n"
     ]
    }
   ],
   "source": [
    "model = VAR(df_p)\n",
    "var_res = model.fit()\n",
    "var_res.summary()\n",
    "print(\"Number of lags modelled :\", var_res.k_ar)"
   ]
  },
  {
   "cell_type": "code",
   "execution_count": null,
   "id": "4dd63dbc",
   "metadata": {},
   "outputs": [
    {
     "data": {
      "text/plain": [
       "WTI spot    0.005867\n",
       "USDX        0.001695\n",
       "Name: R2 scores, dtype: float64"
      ]
     },
     "execution_count": 36,
     "metadata": {},
     "output_type": "execute_result"
    }
   ],
   "source": [
    "r2_ar = 1.0 - var_res.resid.var() / df_p.var()\n",
    "r2_ar.name = \"R2 scores\"\n",
    "r2_ar"
   ]
  },
  {
   "cell_type": "markdown",
   "id": "0dead4ee",
   "metadata": {},
   "source": [
    "- WTI's increments variance is explained 5 times as much as USDX from the VAR model\n",
    "- This corroborates the assumption that USDX drives WTI prices"
   ]
  },
  {
   "cell_type": "code",
   "execution_count": null,
   "id": "3fdd9a31",
   "metadata": {},
   "outputs": [],
   "source": [
    "fitted_wti = (\n",
    "    np.exp(var_res.fittedvalues[\"WTI spot\"].cumsum()) * df_p[\"WTI spot\"].std()\n",
    "    + df.select(pl.col(\"WTI spot\").first()).collect().item()\n",
    ")  # mean.select(pl.col(\"WTI spot\")).item()\n",
    "\n",
    "fitted_wti = (\n",
    "    fitted_wti + rho * df_p[\"USDX\"] / df_p[\"USDX\"].std() * df_p[\"WTI spot\"].std()\n",
    ")"
   ]
  },
  {
   "cell_type": "code",
   "execution_count": null,
   "id": "6ced9e2e",
   "metadata": {},
   "outputs": [],
   "source": [
    "df_pd = df.collect().to_pandas().set_index(\"date\")\n",
    "\n",
    "usd_proj = (\n",
    "    rho\n",
    "    * (df_pd[\"USDX\"] - df_pd[\"USDX\"].mean())\n",
    "    / df_pd[\"USDX\"].std()\n",
    "    * df_pd[\"WTI spot\"].std()\n",
    ")"
   ]
  },
  {
   "cell_type": "code",
   "execution_count": null,
   "id": "e8fb7a6a",
   "metadata": {},
   "outputs": [],
   "source": [
    "wti = (\n",
    "    df.select([pl.col(\"WTI spot\"), pl.col(\"date\")])\n",
    "    .collect()\n",
    "    .to_pandas()\n",
    "    .set_index(\"date\")\n",
    ")\n",
    "_, ax = plt.subplots(figsize=(10, 4))\n",
    "wti.plot(ax=ax)\n",
    "_ = (usd_proj + fitted_wti).plot(ax=ax, grid=True)\n",
    "_ = ax.set_title(\"WTI spot VAR + linear projection prediction\")"
   ]
  },
  {
   "cell_type": "code",
   "execution_count": null,
   "id": "88a3399c",
   "metadata": {},
   "outputs": [
    {
     "name": "stdout",
     "output_type": "stream",
     "text": [
      "R2 VAR model : 0.273\n",
      "R2 VAR model plus linear projection : 0.334\n"
     ]
    }
   ],
   "source": [
    "r2_var = 1 - (wti[\"WTI spot\"] - fitted_wti).var() / wti[\"WTI spot\"].var()\n",
    "r2_var_lin_proj = (\n",
    "    1 - (wti[\"WTI spot\"] - fitted_wti - usd_proj).var() / wti[\"WTI spot\"].var()\n",
    ")\n",
    "\n",
    "print(f\"R2 VAR model : {np.round(r2_var, decimals=3)}\")\n",
    "print(f\"R2 VAR model plus linear projection : {np.round(r2_var_lin_proj, decimals=3)}\")"
   ]
  },
  {
   "cell_type": "code",
   "execution_count": null,
   "id": "4fed2511",
   "metadata": {},
   "outputs": [],
   "source": [
    "wti_residuals = wti[\"WTI spot\"] - fitted_wti - usd_proj\n",
    "\n",
    "_ = wti_residuals.plot(\n",
    "    figsize=(10, 4), grid=True, title=\"WTI residuals ie idiosyncratic price\"\n",
    ")"
   ]
  },
  {
   "cell_type": "markdown",
   "id": "bd593fd5",
   "metadata": {},
   "source": [
    "## Out-of-sample test"
   ]
  },
  {
   "cell_type": "code",
   "execution_count": null,
   "id": "537a7506",
   "metadata": {},
   "outputs": [
    {
     "name": "stdout",
     "output_type": "stream",
     "text": [
      "\n",
      "WTI :\n",
      "    Reject ADF : False\n",
      "    Reject KPSS : False\n",
      "\n",
      "USDX :\n",
      "    Reject ADF : False\n",
      "    Reject KPSS : False\n",
      "\n"
     ]
    },
    {
     "name": "stderr",
     "output_type": "stream",
     "text": [
      "/tmp/ipykernel_6530/2325128371.py:3: InterpolationWarning: The test statistic is outside of the range of p-values available in the\n",
      "look-up table. The actual p-value is smaller than the p-value returned.\n",
      "\n",
      "  kpss_wti, pk_wti, lag_wti, *_ = kpss(wti_unit)\n",
      "/tmp/ipykernel_6530/2325128371.py:4: InterpolationWarning: The test statistic is outside of the range of p-values available in the\n",
      "look-up table. The actual p-value is smaller than the p-value returned.\n",
      "\n",
      "  kpss_usdx, pk_usdx, lag_usdx, *_ = kpss(usdx_unit)\n"
     ]
    }
   ],
   "source": [
    "\n",
    "\n",
    "adf_wti, p_wti, lag_wti, *_ = adfuller(wti_unit)\n",
    "adf_usdx, p_usdx, lag_usdx, *_ = adfuller(usdx_unit)\n",
    "kpss_wti, pk_wti, lag_wti, *_ = kpss(wti_unit)\n",
    "kpss_usdx, pk_usdx, lag_usdx, *_ = kpss(usdx_unit)\n",
    "\n",
    "confidence_level = 0.01\n",
    "\n",
    "print(f\"\"\"\n",
    "WTI :\n",
    "    Reject ADF : {p_wti < confidence_level}\n",
    "    Reject KPSS : {pk_wti < confidence_level}\n",
    "\n",
    "USDX :\n",
    "    Reject ADF : {p_usdx < confidence_level}\n",
    "    Reject KPSS : {pk_usdx < confidence_level}\n",
    "\"\"\")"
   ]
  },
  {
   "cell_type": "code",
   "execution_count": null,
   "id": "9c2a95be",
   "metadata": {},
   "outputs": [],
   "source": [
    "fig, ax = plt.subplots()\n",
    "s = ax.scatter(usdx_unit, wti_unit, s=1., alpha=.8, c=range(len(usdx_unit)))\n",
    "_ = fig.colorbar(s, ax=ax)\n",
    "ax.set_xlabel(\"USDX\")\n",
    "ax.set_ylabel(\"WTI\")\n",
    "_ = plt.tight_layout()"
   ]
  },
  {
   "cell_type": "markdown",
   "id": "c2152b97",
   "metadata": {},
   "source": [
    "***\n",
    "## Sources"
   ]
  },
  {
   "cell_type": "markdown",
   "id": "10135374",
   "metadata": {},
   "source": [
    "- https://open.spotify.com/episode/0LroaxByEYdHk5Bbzg7CMM\n",
    "\n",
    "Data :\n",
    "- https://finance.yahoo.com/quote/DX-Y.NYB/history/\n",
    "- https://www.eia.gov/dnav/pet/hist/RWTCD.htm\n"
   ]
  }
 ],
 "metadata": {
  "kernelspec": {
   "display_name": "fixed-income-analytics",
   "language": "python",
   "name": "python3"
  },
  "language_info": {
   "codemirror_mode": {
    "name": "ipython",
    "version": 3
   },
   "file_extension": ".py",
   "mimetype": "text/x-python",
   "name": "python",
   "nbconvert_exporter": "python",
   "pygments_lexer": "ipython3",
   "version": "3.12.3"
  }
 },
 "nbformat": 4,
 "nbformat_minor": 5
}
