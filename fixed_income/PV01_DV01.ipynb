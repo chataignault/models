{
 "cells": [
  {
   "cell_type": "code",
   "execution_count": null,
   "metadata": {},
   "outputs": [],
   "source": [
    "import pandas as pd\n",
    "import numpy as np\n",
    "from abc import ABCMeta, abstractmethod"
   ]
  },
  {
   "cell_type": "markdown",
   "metadata": {},
   "source": [
    "**Visualise** \n",
    "\n",
    "- DV01 more negative than PV01 when the rate structure is downard sloping due to convexity,\n",
    "- DV01 sensitivity per cash flow,\n",
    "- DV01 difference for upward or downward term structure\n"
   ]
  },
  {
   "cell_type": "code",
   "execution_count": null,
   "metadata": {},
   "outputs": [],
   "source": [
    "class FIProduct(metaclass=ABCMeta):\n",
    "    @abstractmethod\n",
    "    def PV(self):\n",
    "        raise NotImplementedError"
   ]
  },
  {
   "cell_type": "code",
   "execution_count": null,
   "metadata": {},
   "outputs": [],
   "source": [
    "class Bond(FIProduct):\n",
    "    def __init__(self, cash_flows: pd.Series, face_value: float, r: pd.Series):\n",
    "        self.cf = cash_flows\n",
    "        self.fv = face_value\n",
    "        self.r = r\n",
    "        self.T = cash_flows.index.max()\n",
    "        self.f = 1.0 / len(np.where(cash_flows.index.values <= 1.0)[0])\n",
    "        self.c = (cash_flows.iloc[-1] / face_value - 1.0) / self.f\n",
    "        self.pv = self.PV()\n",
    "\n",
    "    def PV(self, r=None):\n",
    "        if r is None:\n",
    "            r = self.r\n",
    "        assert len(r) == len(self.cf)\n",
    "        table = pd.DataFrame(dtype=float)\n",
    "        table[\"cf\"] = self.cf.values\n",
    "        table[\"r\"] = r.values\n",
    "        table[\"t\"] = r.index\n",
    "        return table.apply(\n",
    "            lambda row: row[\"cf\"] / (1 + row[\"r\"]) ** row[\"t\"], axis=1\n",
    "        ).sum()\n",
    "\n",
    "    def get_yield(self, precision=1e-4):\n",
    "        func = (\n",
    "            lambda y: (self.cf.reset_index())\n",
    "            .apply(\n",
    "                lambda row: float(row[\"cash flows\"]) / (1 + y) ** (row[\"schedule\"]),\n",
    "                axis=1,\n",
    "            )\n",
    "            .sum()\n",
    "            - self.pv\n",
    "        )\n",
    "        y = find_root(func, precision)\n",
    "        return y\n",
    "\n",
    "    def get_price_from_yield(self, y: float):\n",
    "        return (\n",
    "            (self.cf.reset_index())\n",
    "            .apply(\n",
    "                lambda row: float(row[\"cash flows\"]) / (1 + y) ** (row[\"schedule\"]),\n",
    "                axis=1,\n",
    "            )\n",
    "            .sum()\n",
    "        )\n",
    "\n",
    "    def PV01(self, delta_y: float = 1e-4):\n",
    "        return self.get_price_from_yield(self.get_yield() + delta_y) - self.pv\n",
    "\n",
    "    def DV01(self, delta_y: float = 1e-4):\n",
    "        return self.PV(self.r + delta_y) - self.pv\n",
    "\n",
    "    def plot_cash_flows(self, save:bool=False):\n",
    "        plot = self.cf.plot(\n",
    "            kind=\"bar\", figsize=(8, 5), title=\"Cash Flows\", grid=True, logy=True\n",
    "        )\n",
    "        if save:\n",
    "            fig = plot.get_figure()\n",
    "            fig.savefig(\"bond_cf.png\")\n",
    "\n",
    "    def DV01_drilldown(self, delta_y=1e-4):\n",
    "        \"\"\"Get the rate sensitivity for each maturity\"\"\"\n",
    "        dv01x = []\n",
    "        for t in self.r.index:\n",
    "            uptick_t = self.r.copy()\n",
    "            uptick_t.loc[t] += delta_y\n",
    "            dv01_ = self.PV(uptick_t) - self.pv\n",
    "            dv01x.append(dv01_)\n",
    "        return pd.Series(dv01x, index=self.cf.index)\n",
    "\n",
    "\n",
    "def generate_bond_cash_flows(face_value, coupon, frequency, maturity):\n",
    "    n = int(maturity / frequency)\n",
    "    tx = [k * frequency for k in range(1, n + 1)]\n",
    "    cash_flows = pd.Series([face_value * coupon / n] * n, index=tx, name=\"cash flows\")\n",
    "    cash_flows.loc[maturity] += face_value\n",
    "    cash_flows.index.name = \"schedule\"\n",
    "    return cash_flows\n",
    "\n",
    "\n",
    "def find_root(fun, precision, x0=1.0):\n",
    "    x = 0.01\n",
    "    while np.abs(fun(x)) > precision and np.abs(fun(x) - fun(x0)) > precision:\n",
    "        x, x0 = x - fun(x) * (x0 - x) / (fun(x0) - fun(x)), x\n",
    "    return x"
   ]
  },
  {
   "cell_type": "code",
   "execution_count": null,
   "metadata": {},
   "outputs": [],
   "source": [
    "# bond description\n",
    "fv = 30000\n",
    "c = 501.0 * 12 / 30000\n",
    "f = 1.0 / 12\n",
    "T = 69 / 12\n",
    "\n",
    "# duration\n",
    "n = int(T / f)\n",
    "tx = [k * f for k in range(1, n + 1)]\n",
    "\n",
    "base = 0.01\n",
    "trend = 0.001\n",
    "uptrend_ts = pd.Series(\n",
    "    [base + trend * np.sqrt(k) for k in range(n)], index=tx, name=\"forward rate\"\n",
    ")\n",
    "downtrend_ts = pd.Series(\n",
    "    [2 * base - trend * np.sqrt(k) for k in range(n)], index=tx, name=\"forward rate\"\n",
    ")\n",
    "\n",
    "cash_flows = generate_bond_cash_flows(fv, c, f, T)\n",
    "bond_up = Bond(cash_flows=cash_flows, face_value=fv, r=uptrend_ts)\n",
    "bond_up.plot_cash_flows(save=True)"
   ]
  },
  {
   "cell_type": "code",
   "execution_count": null,
   "metadata": {},
   "outputs": [],
   "source": [
    "ax = uptrend_ts.plot()\n",
    "plot = downtrend_ts.plot(ax=ax, grid=True, title=\"Term structures\")\n",
    "fig = plot.get_figure()\n",
    "fig.savefig(\"term_structures.png\")\n"
   ]
  },
  {
   "cell_type": "code",
   "execution_count": null,
   "metadata": {},
   "outputs": [],
   "source": [
    "bond_up.PV(), bond_up.get_yield(), bond_up.PV01(), bond_up.DV01()"
   ]
  },
  {
   "cell_type": "code",
   "execution_count": null,
   "metadata": {},
   "outputs": [],
   "source": [
    "bond_down = Bond(cash_flows=cash_flows, face_value=fv, r=downtrend_ts)\n",
    "bond_down.PV(), bond_down.get_yield(), bond_down.PV01(), bond_down.DV01()"
   ]
  },
  {
   "cell_type": "markdown",
   "metadata": {},
   "source": [
    "\n",
    "At short maturities the difference is slight. The difference increases for long maturities.\n",
    "\n",
    "DV01 and PV01 match for zero-coupon bonds, bullet bonds.\n",
    "\n"
   ]
  },
  {
   "cell_type": "code",
   "execution_count": null,
   "metadata": {},
   "outputs": [],
   "source": [
    "dv01x_up = bond_up.DV01_drilldown().abs()\n",
    "dv01x_down = bond_down.DV01_drilldown().abs()\n",
    "plot = dv01x_up.plot(\n",
    "    kind=\"bar\", logy=True, grid=True, figsize=(10, 4), title=\"DV01 per cash flow\"\n",
    ")\n",
    "fig = plot.get_figure()\n",
    "fig.savefig(\"dv01.png\")"
   ]
  },
  {
   "cell_type": "code",
   "execution_count": null,
   "metadata": {},
   "outputs": [],
   "source": [
    "dv01_diff = dv01x_down - dv01x_up\n",
    "plot = dv01_diff.clip(lower=0.0).plot(\n",
    "    kind=\"bar\", logy=True, color=\"green\", figsize=(10, 4)\n",
    ")\n",
    "plot = dv01_diff.clip(upper=0.0).abs().plot(\n",
    "    kind=\"bar\",\n",
    "    logy=True,\n",
    "    color=\"red\",\n",
    "    ax=plot,\n",
    "    grid=True,\n",
    "    title=\"DV01 difference per cashflow (downward - upward)\",\n",
    ")\n",
    "fig = plot.get_figure()\n",
    "fig.savefig(\"dv01_diff.png\")"
   ]
  },
  {
   "cell_type": "markdown",
   "metadata": {},
   "source": [
    "> **yield** = flat rate assumption"
   ]
  }
 ],
 "metadata": {
  "kernelspec": {
   "display_name": "backend",
   "language": "python",
   "name": "python3"
  },
  "language_info": {
   "codemirror_mode": {
    "name": "ipython",
    "version": 3
   },
   "file_extension": ".py",
   "mimetype": "text/x-python",
   "name": "python",
   "nbconvert_exporter": "python",
   "pygments_lexer": "ipython3",
   "version": "3.12.0"
  }
 },
 "nbformat": 4,
 "nbformat_minor": 2
}
